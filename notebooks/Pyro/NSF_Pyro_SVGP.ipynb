{
 "cells": [
  {
   "cell_type": "code",
   "execution_count": 1,
   "metadata": {},
   "outputs": [],
   "source": [
    "import pyro\n",
    "from pyro import distributions as dist\n",
    "import pyro.distributions.constraints as constraints\n",
    "import torch\n",
    "import matplotlib.pyplot as plt\n",
    "from torchvision import datasets, transforms\n",
    "from torch.utils.data import DataLoader\n",
    "from pyro.optim import Adam\n",
    "from pyro.infer import SVI, Trace_ELBO, TraceEnum_ELBO, config_enumerate, infer_discrete\n",
    "import pyro.contrib.gp as gp\n",
    "from sklearn.datasets import fetch_olivetti_faces\n",
    "from tqdm.autonotebook import tqdm\n",
    "from torch import nn\n",
    "from torch.nn import Parameter\n",
    "from pyro.nn.module import PyroParam"
   ]
  },
  {
   "cell_type": "code",
   "execution_count": 2,
   "metadata": {},
   "outputs": [],
   "source": [
    "pyro.clear_param_store()"
   ]
  },
  {
   "cell_type": "code",
   "execution_count": 3,
   "metadata": {},
   "outputs": [],
   "source": [
    "x_train, y_train = fetch_olivetti_faces(return_X_y=True, shuffle=True, random_state=97)\n"
   ]
  },
  {
   "cell_type": "code",
   "execution_count": 4,
   "metadata": {},
   "outputs": [],
   "source": [
    "Y = (x_train)*255\n",
    "Y = Y.astype(int)\n",
    "Y = torch.tensor(Y)"
   ]
  },
  {
   "cell_type": "code",
   "execution_count": 5,
   "metadata": {},
   "outputs": [],
   "source": [
    "idx = torch.linspace(-32, 32, 64, dtype=torch.float)\n",
    "idx2 = torch.linspace(-32, 32, 24, dtype=torch.float)\n",
    "X = torch.cartesian_prod(idx, idx)\n",
    "Xu = torch.cartesian_prod(idx2, idx2)"
   ]
  },
  {
   "cell_type": "code",
   "execution_count": 6,
   "metadata": {},
   "outputs": [
    {
     "data": {
      "text/plain": [
       "torch.Size([4096, 2])"
      ]
     },
     "execution_count": 6,
     "metadata": {},
     "output_type": "execute_result"
    }
   ],
   "source": [
    "X.shape"
   ]
  },
  {
   "cell_type": "code",
   "execution_count": 7,
   "metadata": {},
   "outputs": [],
   "source": [
    "class LinearT(nn.Module):\n",
    "    \"\"\"Linear transform and transpose\"\"\"\n",
    "    def __init__(self, dim_in, dim_out):\n",
    "        super().__init__()\n",
    "        self.linear = nn.Linear(dim_in, dim_out, bias=False)\n",
    "\n",
    "    def forward(self, x):\n",
    "        return self.linear(x).T"
   ]
  },
  {
   "cell_type": "code",
   "execution_count": 8,
   "metadata": {},
   "outputs": [],
   "source": [
    "class LinearExp(gp.Parameterized):\n",
    "    def __init__(self, dim_in, dim_out):\n",
    "        super(LinearExp, self).__init__()\n",
    "\n",
    "        self.W = PyroParam(torch.rand(dim_out, dim_in), constraint=constraints.positive)\n",
    "    \n",
    "    def forward(self, x):\n",
    "        x = torch.exp(x)\n",
    "        x = torch.matmul(self.W, x)\n",
    "        return x"
   ]
  },
  {
   "cell_type": "code",
   "execution_count": 9,
   "metadata": {},
   "outputs": [],
   "source": [
    "L = 10\n",
    "likelihood_mean = LinearExp(L, Y.shape[0])\n",
    "\n",
    "likelihood = gp.likelihoods.Poisson(response_function=likelihood_mean)\n",
    "mean_fn = LinearT(2, L)\n",
    "kernel = gp.kernels.RBF(2, variance=torch.tensor(1.), lengthscale=torch.tensor(0.1))\n",
    "gpr = gp.models.VariationalSparseGP(X, Y, kernel=kernel, Xu=Xu, likelihood=likelihood, mean_function=mean_fn, latent_shape=torch.Size([L]), jitter=1e-2)\n",
    "# gpr = gp.models.VariationalSparseGP(X, Y, kernel=kernel, Xu=Xu, likelihood=likelihood,  latent_shape=torch.Size([L]), jitter=1e-2)"
   ]
  },
  {
   "cell_type": "code",
   "execution_count": 10,
   "metadata": {},
   "outputs": [
    {
     "data": {
      "text/plain": [
       "torch.Size([576, 2])"
      ]
     },
     "execution_count": 10,
     "metadata": {},
     "output_type": "execute_result"
    }
   ],
   "source": [
    "Xu.shape"
   ]
  },
  {
   "cell_type": "code",
   "execution_count": 11,
   "metadata": {},
   "outputs": [
    {
     "data": {
      "text/plain": [
       "torch.Size([10, 576])"
      ]
     },
     "execution_count": 11,
     "metadata": {},
     "output_type": "execute_result"
    }
   ],
   "source": [
    "gpr.u_loc.shape"
   ]
  },
  {
   "cell_type": "code",
   "execution_count": 12,
   "metadata": {},
   "outputs": [
    {
     "data": {
      "text/plain": [
       "torch.Size([400, 4096])"
      ]
     },
     "execution_count": 12,
     "metadata": {},
     "output_type": "execute_result"
    }
   ],
   "source": [
    "Y.shape"
   ]
  },
  {
   "cell_type": "code",
   "execution_count": 13,
   "metadata": {},
   "outputs": [
    {
     "data": {
      "text/plain": [
       "torch.Size([4096, 2])"
      ]
     },
     "execution_count": 13,
     "metadata": {},
     "output_type": "execute_result"
    }
   ],
   "source": [
    "X.shape"
   ]
  },
  {
   "cell_type": "code",
   "execution_count": 14,
   "metadata": {},
   "outputs": [],
   "source": [
    "# model = NSF(X, Y, Xu)"
   ]
  },
  {
   "cell_type": "code",
   "execution_count": 15,
   "metadata": {},
   "outputs": [
    {
     "data": {
      "text/plain": [
       "<bound method Module.parameters of VariationalSparseGP(\n",
       "  (kernel): RBF()\n",
       "  (mean_function): LinearT(\n",
       "    (linear): Linear(in_features=2, out_features=10, bias=False)\n",
       "  )\n",
       "  (likelihood): Poisson(\n",
       "    (response_function): LinearExp()\n",
       "  )\n",
       ")>"
      ]
     },
     "execution_count": 15,
     "metadata": {},
     "output_type": "execute_result"
    }
   ],
   "source": [
    "gpr.parameters"
   ]
  },
  {
   "cell_type": "code",
   "execution_count": 16,
   "metadata": {},
   "outputs": [],
   "source": [
    "optimizer = torch.optim.Adam(gpr.parameters(), lr=1e-2)\n",
    "loss_fn = pyro.infer.TraceMeanField_ELBO(num_particles=10, vectorize_particles=True).differentiable_loss"
   ]
  },
  {
   "cell_type": "code",
   "execution_count": 17,
   "metadata": {},
   "outputs": [
    {
     "data": {
      "application/vnd.jupyter.widget-view+json": {
       "model_id": "e9c6ac4a694d4213a8b509884b1350a5",
       "version_major": 2,
       "version_minor": 0
      },
      "text/plain": [
       "  0%|          | 0/2000 [00:00<?, ?it/s]"
      ]
     },
     "metadata": {},
     "output_type": "display_data"
    }
   ],
   "source": [
    "# do gradient steps\n",
    "losses = []\n",
    "for step in tqdm(range(2000)):\n",
    "    optimizer.zero_grad()\n",
    "    gpr.set_data(X, Y)\n",
    "    loss = loss_fn(gpr.model, gpr.guide)\n",
    "    loss.backward()\n",
    "    optimizer.step()\n",
    "    losses.append(loss.item())"
   ]
  },
  {
   "cell_type": "code",
   "execution_count": 18,
   "metadata": {},
   "outputs": [
    {
     "data": {
      "text/plain": [
       "[<matplotlib.lines.Line2D at 0x16c6b6b50>]"
      ]
     },
     "execution_count": 18,
     "metadata": {},
     "output_type": "execute_result"
    },
    {
     "data": {
      "image/png": "[encoded data removed]",
      "text/plain": [
       "<Figure size 640x480 with 1 Axes>"
      ]
     },
     "metadata": {},
     "output_type": "display_data"
    }
   ],
   "source": [
    "plt.plot(losses)"
   ]
  },
  {
   "cell_type": "code",
   "execution_count": 19,
   "metadata": {},
   "outputs": [
    {
     "data": {
      "text/plain": [
       "tensor([[0.4773, 0.3122, 0.2074,  ..., 0.7586, 0.6426, 0.0135],\n",
       "        [0.3928, 0.5424, 0.0167,  ..., 0.2213, 0.4576, 0.6202],\n",
       "        [0.2372, 0.2568, 0.0530,  ..., 0.7093, 0.3188, 0.0410],\n",
       "        ...,\n",
       "        [0.2410, 0.2420, 0.3483,  ..., 0.3091, 0.2403, 0.1827],\n",
       "        [0.8024, 0.3051, 0.7614,  ..., 0.5665, 0.1383, 0.7467],\n",
       "        [0.6734, 0.1435, 0.4158,  ..., 0.4214, 0.5599, 0.5122]],\n",
       "       grad_fn=<AddBackward0>)"
      ]
     },
     "execution_count": 19,
     "metadata": {},
     "output_type": "execute_result"
    }
   ],
   "source": [
    "likelihood_mean.W"
   ]
  },
  {
   "cell_type": "code",
   "execution_count": 20,
   "metadata": {},
   "outputs": [],
   "source": [
    "F, _ = gpr.forward(X)"
   ]
  },
  {
   "cell_type": "code",
   "execution_count": 21,
   "metadata": {},
   "outputs": [
    {
     "data": {
      "text/plain": [
       "torch.Size([10, 4096])"
      ]
     },
     "execution_count": 21,
     "metadata": {},
     "output_type": "execute_result"
    }
   ],
   "source": [
    "F.shape"
   ]
  },
  {
   "cell_type": "code",
   "execution_count": 22,
   "metadata": {},
   "outputs": [
    {
     "data": {
      "image/png": "[encoded data removed]",
      "text/plain": [
       "<Figure size 1000x400 with 10 Axes>"
      ]
     },
     "metadata": {},
     "output_type": "display_data"
    }
   ],
   "source": [
    "plt.figure(figsize=(10, L*2//5))\n",
    "for i in range(L):\n",
    "    plt.subplot(L//5, 5, i+1)\n",
    "    loading = (F[i].exp()).detach().cpu().numpy()\n",
    "    plt.imshow(loading.reshape(64, 64), cmap='gray')\n",
    "    plt.axis('off')"
   ]
  },
  {
   "cell_type": "code",
   "execution_count": null,
   "metadata": {},
   "outputs": [],
   "source": []
  }
 ],
 "metadata": {
  "kernelspec": {
   "display_name": "nsf",
   "language": "python",
   "name": "python3"
  },
  "language_info": {
   "codemirror_mode": {
    "name": "ipython",
    "version": 3
   },
   "file_extension": ".py",
   "mimetype": "text/x-python",
   "name": "python",
   "nbconvert_exporter": "python",
   "pygments_lexer": "ipython3",
   "version": "3.9.15"
  },
  "orig_nbformat": 4,
  "vscode": {
   "interpreter": {
    "hash": "def6b8d8258e8d56bbd351e0808a62c623228fb917639ea99d1b4fa8686b8b68"
   }
  }
 },
 "nbformat": 4,
 "nbformat_minor": 2
}
