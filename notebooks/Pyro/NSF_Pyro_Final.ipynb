{
 "cells": [
  {
   "cell_type": "code",
   "execution_count": 1,
   "metadata": {},
   "outputs": [],
   "source": [
    "import pyro\n",
    "from pyro import distributions as dist\n",
    "from pyro.nn import PyroSample, PyroParam, PyroModule, pyro_method\n",
    "import pyro.distributions.constraints as constraints\n",
    "import torch\n",
    "import matplotlib.pyplot as plt\n",
    "from torchvision import datasets, transforms\n",
    "from torch.utils.data import DataLoader\n",
    "from pyro.optim import Adam\n",
    "from pyro.infer import SVI, Trace_ELBO, TraceEnum_ELBO, config_enumerate, infer_discrete\n",
    "import pyro.contrib.gp as gp\n",
    "from sklearn.datasets import fetch_olivetti_faces\n",
    "from tqdm.autonotebook import tqdm\n",
    "from sklearn.decomposition import NMF\n",
    "from pyro.distributions.util import eye_like\n",
    "from pyro.contrib.gp import Parameterized"
   ]
  },
  {
   "cell_type": "code",
   "execution_count": 2,
   "metadata": {},
   "outputs": [],
   "source": [
    "pyro.clear_param_store()"
   ]
  },
  {
   "cell_type": "code",
   "execution_count": 3,
   "metadata": {},
   "outputs": [],
   "source": [
    "x_train, y_train = fetch_olivetti_faces(return_X_y=True, shuffle=True, random_state=97)\n"
   ]
  },
  {
   "cell_type": "code",
   "execution_count": 4,
   "metadata": {},
   "outputs": [],
   "source": [
    "Y = (x_train)*255\n",
    "Y = Y.astype(int)\n",
    "Y = torch.tensor(Y)"
   ]
  },
  {
   "cell_type": "code",
   "execution_count": 5,
   "metadata": {},
   "outputs": [],
   "source": [
    "idx = torch.linspace(-5, 5, 64, dtype=torch.float)\n",
    "\n",
    "X_coordinates = torch.cartesian_prod(idx, idx)\n",
    "\n",
    "U_len = 20\n",
    "\n",
    "idz = torch.linspace(-5, 5, U_len, dtype=torch.float)\n",
    "Xu = torch.cartesian_prod(idz, idz)\n",
    "\n"
   ]
  },
  {
   "cell_type": "code",
   "execution_count": 75,
   "metadata": {},
   "outputs": [],
   "source": [
    "def conditional(\n",
    "    Xnew,\n",
    "    X,\n",
    "    kernel,\n",
    "    f_loc,\n",
    "    f_scale_tril=None,\n",
    "    Lff=None,\n",
    "    jitter=1e-6,\n",
    "):\n",
    "\n",
    "    N = X.size(0)\n",
    "    M = Xnew.size(0)\n",
    "    latent_shape = f_loc.shape[:-1]\n",
    "\n",
    "    if Lff is None:\n",
    "        Kff = kernel(X).contiguous()\n",
    "        for i in range(latent_shape[0]):\n",
    "            Kff[i].view(-1)[:: N + 1] += jitter\n",
    "\n",
    "        Lff = torch.linalg.cholesky(Kff)\n",
    "    Kfs = kernel(X, Xnew)\n",
    "\n",
    "    # convert f_loc_shape from latent_shape x N to N x latent_shape\n",
    "    f_loc = f_loc.permute(-1, *range(len(latent_shape)))\n",
    "    # convert f_loc to 2D tensor for packing\n",
    "    f_loc_2D = f_loc.reshape(N, -1)\n",
    "\n",
    "    Kfs = Kfs.permute(-2, -1, *range(len(latent_shape)))\n",
    "    Kfs_2D = Kfs.reshape(N, -1)\n",
    "\n",
    "    if f_scale_tril is not None:\n",
    "        # convert f_scale_tril_shape from latent_shape x N x N to N x N x latent_shape\n",
    "        f_scale_tril = f_scale_tril.permute(-2, -1, *range(len(latent_shape)))\n",
    "        # convert f_scale_tril to 2D tensor for packing\n",
    "        f_scale_tril_2D = f_scale_tril.reshape(N, -1)\n",
    "\n",
    "\n",
    "    \n",
    "\n",
    "    pack = torch.cat((f_loc_2D, Kfs_2D), dim=1)\n",
    "    if f_scale_tril is not None:\n",
    "        pack = torch.cat((pack, f_scale_tril_2D), dim=1)\n",
    "\n",
    "    Lffinv_pack = torch.linalg.solve_triangular(Lff, pack, upper=False)\n",
    "    print(Lffinv_pack.shape)\n",
    "    # unpack\n",
    "    v_2D = Lffinv_pack[:, :f_loc_2D.size(1)]\n",
    "    print(v_2D.shape)\n",
    "    W = Lffinv_pack[:, f_loc_2D.size(1) : f_loc_2D.size(1) + M].t()\n",
    "    if f_scale_tril is not None:\n",
    "        S_2D = Lffinv_pack[:, -f_scale_tril_2D.size(1) :]\n",
    "\n",
    "    loc_shape = latent_shape + (M,)\n",
    "    loc = W.matmul(v_2D).t().reshape(loc_shape)\n",
    "\n",
    "\n",
    "    '''see this later'''\n",
    "\n",
    "    Kssdiag = kernel(Xnew, diag=True)\n",
    "    Qssdiag = W.pow(2).sum(dim=-1)\n",
    "    # Theoretically, Kss - Qss is non-negative; but due to numerical\n",
    "    # computation, that might not be the case in practice.\n",
    "    var = (Kssdiag - Qssdiag).clamp(min=0)\n",
    "\n",
    "    if f_scale_tril is not None:\n",
    "        W_S_shape = (Xnew.size(0),) + f_scale_tril.shape[1:]\n",
    "        W_S = W.matmul(S_2D).reshape(W_S_shape)\n",
    "        # convert W_S_shape from M x N x latent_shape to latent_shape x M x N\n",
    "        W_S = W_S.permute(list(range(2, W_S.dim())) + [0, 1])\n",
    "        Kdiag = W_S.pow(2).sum(dim=-1)\n",
    "        var = var + Kdiag\n",
    "    else:\n",
    "        \n",
    "        var = var.expand(latent_shape + (M,))\n",
    "\n",
    "    return loc, var"
   ]
  },
  {
   "cell_type": "code",
   "execution_count": 76,
   "metadata": {},
   "outputs": [],
   "source": [
    "class NSF(PyroModule):\n",
    "    def __init__(self, X, y, kernel, Xu, components=10, jitter=1e-4):\n",
    "        super(NSF, self).__init__()\n",
    "        self.X = X\n",
    "        self.y = y\n",
    "        self.jitter = jitter\n",
    "        self.kernel = kernel\n",
    "        self.components=torch.Size([components])\n",
    "\n",
    "        self.Xu = PyroParam(Xu)\n",
    "\n",
    "\n",
    "        M = self.Xu.size(0)\n",
    "\n",
    "        u_loc = self.Xu.new_zeros(self.components + (M,))\n",
    "        self.u_loc = PyroParam(u_loc)\n",
    "\n",
    "\n",
    "        identity = eye_like(self.Xu, M)\n",
    "        u_scale_tril = identity.repeat(self.components + (1, 1))\n",
    "        self.u_scale_tril = PyroParam(u_scale_tril, constraints.lower_cholesky)\n",
    "\n",
    "    @pyro_method\n",
    "    def model(self):\n",
    "        # self.set_mode(\"model\")\n",
    "        M = self.Xu.size(0)\n",
    "        Kuu = self.kernel(self.Xu).contiguous()\n",
    "        for i in range(self.components[0]):\n",
    "            Kuu[i].view(-1)[:: M + 1] += self.jitter\n",
    "\n",
    "        Luu = torch.linalg.cholesky(Kuu)\n",
    "        zero_loc = self.Xu.new_zeros(self.u_loc.shape)\n",
    "\n",
    "        pyro.sample(\n",
    "                self._pyro_get_fullname(\"u\"),\n",
    "                dist.MultivariateNormal(zero_loc, scale_tril=Luu).to_event(\n",
    "                    zero_loc.dim() - 1\n",
    "                ),\n",
    "        )\n",
    "\n",
    "        f_loc, f_var = conditional(\n",
    "            self.X,\n",
    "            self.Xu,\n",
    "            self.kernel,\n",
    "            self.u_loc,\n",
    "            self.u_scale_tril,\n",
    "            Luu,\n",
    "            jitter=self.jitter\n",
    "        )\n",
    "\n",
    "    \n"
   ]
  },
  {
   "cell_type": "code",
   "execution_count": 77,
   "metadata": {},
   "outputs": [],
   "source": [
    "kernel = gp.kernels.IndependentRBF(input_dim=2, components=10)\n",
    "model = NSF(X_coordinates, Y, kernel, Xu)"
   ]
  },
  {
   "cell_type": "code",
   "execution_count": 78,
   "metadata": {},
   "outputs": [
    {
     "name": "stdout",
     "output_type": "stream",
     "text": [
      "torch.Size([10, 400, 44970])\n",
      "torch.Size([10, 400, 10])\n"
     ]
    },
    {
     "ename": "RuntimeError",
     "evalue": "t() expects a tensor with <= 2 dimensions, but self is 3D",
     "output_type": "error",
     "traceback": [
      "\u001b[0;31m---------------------------------------------------------------------------\u001b[0m",
      "\u001b[0;31mRuntimeError\u001b[0m                              Traceback (most recent call last)",
      "\u001b[1;32m/Users/luisfcd/gitclones/SpatialFactorization/notebooks/Pyro/NSF_Pyro_Final.ipynb Cell 9\u001b[0m in \u001b[0;36m<cell line: 1>\u001b[0;34m()\u001b[0m\n\u001b[0;32m----> <a href='vscode-notebook-cell:/Users/luisfcd/gitclones/SpatialFactorization/notebooks/Pyro/NSF_Pyro_Final.ipynb#X25sZmlsZQ%3D%3D?line=0'>1</a>\u001b[0m model\u001b[39m.\u001b[39;49mmodel()\n",
      "File \u001b[0;32m~/gitclones/pyro/pyro/nn/module.py:677\u001b[0m, in \u001b[0;36mpyro_method.<locals>.cached_fn\u001b[0;34m(self, *args, **kwargs)\u001b[0m\n\u001b[1;32m    674\u001b[0m \u001b[39m@functools\u001b[39m\u001b[39m.\u001b[39mwraps(fn)\n\u001b[1;32m    675\u001b[0m \u001b[39mdef\u001b[39;00m \u001b[39mcached_fn\u001b[39m(\u001b[39mself\u001b[39m, \u001b[39m*\u001b[39margs, \u001b[39m*\u001b[39m\u001b[39m*\u001b[39mkwargs):\n\u001b[1;32m    676\u001b[0m     \u001b[39mwith\u001b[39;00m \u001b[39mself\u001b[39m\u001b[39m.\u001b[39m_pyro_context:\n\u001b[0;32m--> 677\u001b[0m         \u001b[39mreturn\u001b[39;00m fn(\u001b[39mself\u001b[39;49m, \u001b[39m*\u001b[39;49margs, \u001b[39m*\u001b[39;49m\u001b[39m*\u001b[39;49mkwargs)\n",
      "\u001b[1;32m/Users/luisfcd/gitclones/SpatialFactorization/notebooks/Pyro/NSF_Pyro_Final.ipynb Cell 9\u001b[0m in \u001b[0;36mNSF.model\u001b[0;34m(self)\u001b[0m\n\u001b[1;32m     <a href='vscode-notebook-cell:/Users/luisfcd/gitclones/SpatialFactorization/notebooks/Pyro/NSF_Pyro_Final.ipynb#X25sZmlsZQ%3D%3D?line=31'>32</a>\u001b[0m zero_loc \u001b[39m=\u001b[39m \u001b[39mself\u001b[39m\u001b[39m.\u001b[39mXu\u001b[39m.\u001b[39mnew_zeros(\u001b[39mself\u001b[39m\u001b[39m.\u001b[39mu_loc\u001b[39m.\u001b[39mshape)\n\u001b[1;32m     <a href='vscode-notebook-cell:/Users/luisfcd/gitclones/SpatialFactorization/notebooks/Pyro/NSF_Pyro_Final.ipynb#X25sZmlsZQ%3D%3D?line=33'>34</a>\u001b[0m pyro\u001b[39m.\u001b[39msample(\n\u001b[1;32m     <a href='vscode-notebook-cell:/Users/luisfcd/gitclones/SpatialFactorization/notebooks/Pyro/NSF_Pyro_Final.ipynb#X25sZmlsZQ%3D%3D?line=34'>35</a>\u001b[0m         \u001b[39mself\u001b[39m\u001b[39m.\u001b[39m_pyro_get_fullname(\u001b[39m\"\u001b[39m\u001b[39mu\u001b[39m\u001b[39m\"\u001b[39m),\n\u001b[1;32m     <a href='vscode-notebook-cell:/Users/luisfcd/gitclones/SpatialFactorization/notebooks/Pyro/NSF_Pyro_Final.ipynb#X25sZmlsZQ%3D%3D?line=35'>36</a>\u001b[0m         dist\u001b[39m.\u001b[39mMultivariateNormal(zero_loc, scale_tril\u001b[39m=\u001b[39mLuu)\u001b[39m.\u001b[39mto_event(\n\u001b[1;32m     <a href='vscode-notebook-cell:/Users/luisfcd/gitclones/SpatialFactorization/notebooks/Pyro/NSF_Pyro_Final.ipynb#X25sZmlsZQ%3D%3D?line=36'>37</a>\u001b[0m             zero_loc\u001b[39m.\u001b[39mdim() \u001b[39m-\u001b[39m \u001b[39m1\u001b[39m\n\u001b[1;32m     <a href='vscode-notebook-cell:/Users/luisfcd/gitclones/SpatialFactorization/notebooks/Pyro/NSF_Pyro_Final.ipynb#X25sZmlsZQ%3D%3D?line=37'>38</a>\u001b[0m         ),\n\u001b[1;32m     <a href='vscode-notebook-cell:/Users/luisfcd/gitclones/SpatialFactorization/notebooks/Pyro/NSF_Pyro_Final.ipynb#X25sZmlsZQ%3D%3D?line=38'>39</a>\u001b[0m )\n\u001b[0;32m---> <a href='vscode-notebook-cell:/Users/luisfcd/gitclones/SpatialFactorization/notebooks/Pyro/NSF_Pyro_Final.ipynb#X25sZmlsZQ%3D%3D?line=40'>41</a>\u001b[0m f_loc, f_var \u001b[39m=\u001b[39m conditional(\n\u001b[1;32m     <a href='vscode-notebook-cell:/Users/luisfcd/gitclones/SpatialFactorization/notebooks/Pyro/NSF_Pyro_Final.ipynb#X25sZmlsZQ%3D%3D?line=41'>42</a>\u001b[0m     \u001b[39mself\u001b[39;49m\u001b[39m.\u001b[39;49mX,\n\u001b[1;32m     <a href='vscode-notebook-cell:/Users/luisfcd/gitclones/SpatialFactorization/notebooks/Pyro/NSF_Pyro_Final.ipynb#X25sZmlsZQ%3D%3D?line=42'>43</a>\u001b[0m     \u001b[39mself\u001b[39;49m\u001b[39m.\u001b[39;49mXu,\n\u001b[1;32m     <a href='vscode-notebook-cell:/Users/luisfcd/gitclones/SpatialFactorization/notebooks/Pyro/NSF_Pyro_Final.ipynb#X25sZmlsZQ%3D%3D?line=43'>44</a>\u001b[0m     \u001b[39mself\u001b[39;49m\u001b[39m.\u001b[39;49mkernel,\n\u001b[1;32m     <a href='vscode-notebook-cell:/Users/luisfcd/gitclones/SpatialFactorization/notebooks/Pyro/NSF_Pyro_Final.ipynb#X25sZmlsZQ%3D%3D?line=44'>45</a>\u001b[0m     \u001b[39mself\u001b[39;49m\u001b[39m.\u001b[39;49mu_loc,\n\u001b[1;32m     <a href='vscode-notebook-cell:/Users/luisfcd/gitclones/SpatialFactorization/notebooks/Pyro/NSF_Pyro_Final.ipynb#X25sZmlsZQ%3D%3D?line=45'>46</a>\u001b[0m     \u001b[39mself\u001b[39;49m\u001b[39m.\u001b[39;49mu_scale_tril,\n\u001b[1;32m     <a href='vscode-notebook-cell:/Users/luisfcd/gitclones/SpatialFactorization/notebooks/Pyro/NSF_Pyro_Final.ipynb#X25sZmlsZQ%3D%3D?line=46'>47</a>\u001b[0m     Luu,\n\u001b[1;32m     <a href='vscode-notebook-cell:/Users/luisfcd/gitclones/SpatialFactorization/notebooks/Pyro/NSF_Pyro_Final.ipynb#X25sZmlsZQ%3D%3D?line=47'>48</a>\u001b[0m     jitter\u001b[39m=\u001b[39;49m\u001b[39mself\u001b[39;49m\u001b[39m.\u001b[39;49mjitter\n\u001b[1;32m     <a href='vscode-notebook-cell:/Users/luisfcd/gitclones/SpatialFactorization/notebooks/Pyro/NSF_Pyro_Final.ipynb#X25sZmlsZQ%3D%3D?line=48'>49</a>\u001b[0m )\n",
      "\u001b[1;32m/Users/luisfcd/gitclones/SpatialFactorization/notebooks/Pyro/NSF_Pyro_Final.ipynb Cell 9\u001b[0m in \u001b[0;36mconditional\u001b[0;34m(Xnew, X, kernel, f_loc, f_scale_tril, Lff, jitter)\u001b[0m\n\u001b[1;32m     <a href='vscode-notebook-cell:/Users/luisfcd/gitclones/SpatialFactorization/notebooks/Pyro/NSF_Pyro_Final.ipynb#X25sZmlsZQ%3D%3D?line=46'>47</a>\u001b[0m v_2D \u001b[39m=\u001b[39m Lffinv_pack[:, :, :f_loc_2D\u001b[39m.\u001b[39msize(\u001b[39m1\u001b[39m)]\n\u001b[1;32m     <a href='vscode-notebook-cell:/Users/luisfcd/gitclones/SpatialFactorization/notebooks/Pyro/NSF_Pyro_Final.ipynb#X25sZmlsZQ%3D%3D?line=47'>48</a>\u001b[0m \u001b[39mprint\u001b[39m(v_2D\u001b[39m.\u001b[39mshape)\n\u001b[0;32m---> <a href='vscode-notebook-cell:/Users/luisfcd/gitclones/SpatialFactorization/notebooks/Pyro/NSF_Pyro_Final.ipynb#X25sZmlsZQ%3D%3D?line=48'>49</a>\u001b[0m W \u001b[39m=\u001b[39m Lffinv_pack[:, f_loc_2D\u001b[39m.\u001b[39;49msize(\u001b[39m1\u001b[39;49m) : f_loc_2D\u001b[39m.\u001b[39;49msize(\u001b[39m1\u001b[39;49m) \u001b[39m+\u001b[39;49m M]\u001b[39m.\u001b[39;49mt()\n\u001b[1;32m     <a href='vscode-notebook-cell:/Users/luisfcd/gitclones/SpatialFactorization/notebooks/Pyro/NSF_Pyro_Final.ipynb#X25sZmlsZQ%3D%3D?line=49'>50</a>\u001b[0m \u001b[39mif\u001b[39;00m f_scale_tril \u001b[39mis\u001b[39;00m \u001b[39mnot\u001b[39;00m \u001b[39mNone\u001b[39;00m:\n\u001b[1;32m     <a href='vscode-notebook-cell:/Users/luisfcd/gitclones/SpatialFactorization/notebooks/Pyro/NSF_Pyro_Final.ipynb#X25sZmlsZQ%3D%3D?line=50'>51</a>\u001b[0m     S_2D \u001b[39m=\u001b[39m Lffinv_pack[:, \u001b[39m-\u001b[39mf_scale_tril_2D\u001b[39m.\u001b[39msize(\u001b[39m1\u001b[39m) :]\n",
      "\u001b[0;31mRuntimeError\u001b[0m: t() expects a tensor with <= 2 dimensions, but self is 3D"
     ]
    }
   ],
   "source": [
    "model.model()"
   ]
  },
  {
   "cell_type": "code",
   "execution_count": 39,
   "metadata": {},
   "outputs": [
    {
     "data": {
      "text/plain": [
       "torch.Size([10, 400])"
      ]
     },
     "execution_count": 39,
     "metadata": {},
     "output_type": "execute_result"
    }
   ],
   "source": [
    "model.u_loc.shape"
   ]
  },
  {
   "cell_type": "code",
   "execution_count": 37,
   "metadata": {},
   "outputs": [],
   "source": [
    "cov = kernel.forward(Xu, Xu)\n",
    "\n",
    "for i in range(10):\n",
    "    cov[i].view(-1)[:: Xu.size(0) + 1] += 1e-3\n",
    "    \n",
    "cov_cholesky = torch.linalg.cholesky(cov)"
   ]
  },
  {
   "cell_type": "code",
   "execution_count": 33,
   "metadata": {},
   "outputs": [
    {
     "data": {
      "text/plain": [
       "torch.Size([10, 400])"
      ]
     },
     "execution_count": 33,
     "metadata": {},
     "output_type": "execute_result"
    }
   ],
   "source": [
    "dist.MultivariateNormal(torch.zeros(10, Xu.size(0)), scale_tril=cov_cholesky)().shape"
   ]
  },
  {
   "cell_type": "code",
   "execution_count": null,
   "metadata": {},
   "outputs": [],
   "source": []
  },
  {
   "cell_type": "code",
   "execution_count": 60,
   "metadata": {},
   "outputs": [
    {
     "data": {
      "text/plain": [
       "torch.Size([10, 400])"
      ]
     },
     "execution_count": 60,
     "metadata": {},
     "output_type": "execute_result"
    }
   ],
   "source": [
    "model.u_loc.shape"
   ]
  },
  {
   "cell_type": "code",
   "execution_count": 56,
   "metadata": {},
   "outputs": [
    {
     "data": {
      "text/plain": [
       "torch.Size([10, 400, 400])"
      ]
     },
     "execution_count": 56,
     "metadata": {},
     "output_type": "execute_result"
    }
   ],
   "source": [
    "model.u_scale_tril.shape"
   ]
  },
  {
   "cell_type": "code",
   "execution_count": null,
   "metadata": {},
   "outputs": [],
   "source": []
  }
 ],
 "metadata": {
  "kernelspec": {
   "display_name": "nsf",
   "language": "python",
   "name": "python3"
  },
  "language_info": {
   "codemirror_mode": {
    "name": "ipython",
    "version": 3
   },
   "file_extension": ".py",
   "mimetype": "text/x-python",
   "name": "python",
   "nbconvert_exporter": "python",
   "pygments_lexer": "ipython3",
   "version": "3.9.15"
  },
  "orig_nbformat": 4
 },
 "nbformat": 4,
 "nbformat_minor": 2
}
