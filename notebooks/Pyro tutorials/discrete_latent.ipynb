{
 "cells": [
  {
   "cell_type": "code",
   "execution_count": 1,
   "metadata": {},
   "outputs": [],
   "source": [
    "import os\n",
    "import torch\n",
    "import pyro\n",
    "import pyro.distributions as dist\n",
    "from torch.distributions import constraints\n",
    "from pyro import poutine\n",
    "from pyro.infer import SVI, Trace_ELBO, TraceEnum_ELBO, config_enumerate, infer_discrete\n",
    "from pyro.infer.autoguide import AutoNormal\n",
    "from pyro.ops.indexing import Vindex\n",
    "\n",
    "smoke_test = ('CI' in os.environ)\n",
    "assert pyro.__version__.startswith('1.8.3')\n",
    "pyro.set_rng_seed(0)"
   ]
  },
  {
   "cell_type": "code",
   "execution_count": 10,
   "metadata": {},
   "outputs": [
    {
     "name": "stdout",
     "output_type": "stream",
     "text": [
      "guide z = 3\n",
      "model z = 3\n"
     ]
    },
    {
     "data": {
      "text/plain": [
       "-0.0"
      ]
     },
     "execution_count": 10,
     "metadata": {},
     "output_type": "execute_result"
    }
   ],
   "source": [
    "def model():\n",
    "    z = pyro.sample(\"z\", dist.Categorical(torch.ones(5)))\n",
    "    print(f\"model z = {z}\")\n",
    "\n",
    "def guide():\n",
    "    z = pyro.sample(\"z\", dist.Categorical(torch.ones(5)))\n",
    "    print(f\"guide z = {z}\")\n",
    "\n",
    "elbo = Trace_ELBO()\n",
    "elbo.loss(model, guide)"
   ]
  },
  {
   "cell_type": "code",
   "execution_count": 8,
   "metadata": {},
   "outputs": [
    {
     "name": "stdout",
     "output_type": "stream",
     "text": [
      "guide z = tensor([0, 1, 2, 3, 4])\n",
      "model z = tensor([0, 1, 2, 3, 4])\n"
     ]
    }
   ],
   "source": [
    "elbo = TraceEnum_ELBO(max_plate_nesting=0)\n",
    "elbo.loss(model, config_enumerate(guide, \"parallel\"));"
   ]
  },
  {
   "cell_type": "code",
   "execution_count": 9,
   "metadata": {},
   "outputs": [
    {
     "name": "stdout",
     "output_type": "stream",
     "text": [
      "guide z = 4\n",
      "model z = 4\n",
      "guide z = 3\n",
      "model z = 3\n",
      "guide z = 2\n",
      "model z = 2\n",
      "guide z = 1\n",
      "model z = 1\n",
      "guide z = 0\n",
      "model z = 0\n"
     ]
    }
   ],
   "source": [
    "elbo = TraceEnum_ELBO(max_plate_nesting=0)\n",
    "elbo.loss(model, config_enumerate(guide, \"sequential\"));"
   ]
  },
  {
   "cell_type": "code",
   "execution_count": 14,
   "metadata": {},
   "outputs": [
    {
     "name": "stdout",
     "output_type": "stream",
     "text": [
      "Sampling:\n",
      "  model x.shape = torch.Size([])\n",
      "  model y.shape = torch.Size([])\n",
      "  model z.shape = torch.Size([])\n",
      "Enumerated Inference:\n",
      "  model x.shape = torch.Size([3])\n",
      "  model y.shape = torch.Size([3, 1])\n",
      "  model z.shape = torch.Size([3, 1, 1])\n"
     ]
    }
   ],
   "source": [
    "@config_enumerate\n",
    "def model():\n",
    "    p = pyro.param(\"p\", torch.randn(3, 3).exp(), constraint=constraints.simplex)\n",
    "    x = pyro.sample(\"x\", dist.Categorical(p[0]))\n",
    "    y = pyro.sample(\"y\", dist.Categorical(p[x]))\n",
    "    z = pyro.sample(\"z\", dist.Categorical(p[y]))\n",
    "    print(f\"  model x.shape = {x.shape}\")\n",
    "    print(f\"  model y.shape = {y.shape}\")\n",
    "    print(f\"  model z.shape = {z.shape}\")\n",
    "    return x, y, z\n",
    "\n",
    "def guide():\n",
    "    pass\n",
    "\n",
    "pyro.clear_param_store()\n",
    "print(\"Sampling:\")\n",
    "model()\n",
    "print(\"Enumerated Inference:\")\n",
    "elbo = TraceEnum_ELBO(max_plate_nesting=0)\n",
    "elbo.loss(model, guide);"
   ]
  },
  {
   "cell_type": "code",
   "execution_count": null,
   "metadata": {},
   "outputs": [],
   "source": []
  }
 ],
 "metadata": {
  "kernelspec": {
   "display_name": "Python 3.9.13 ('nsf')",
   "language": "python",
   "name": "python3"
  },
  "language_info": {
   "codemirror_mode": {
    "name": "ipython",
    "version": 3
   },
   "file_extension": ".py",
   "mimetype": "text/x-python",
   "name": "python",
   "nbconvert_exporter": "python",
   "pygments_lexer": "ipython3",
   "version": "3.9.15"
  },
  "orig_nbformat": 4,
  "vscode": {
   "interpreter": {
    "hash": "def6b8d8258e8d56bbd351e0808a62c623228fb917639ea99d1b4fa8686b8b68"
   }
  }
 },
 "nbformat": 4,
 "nbformat_minor": 2
}
