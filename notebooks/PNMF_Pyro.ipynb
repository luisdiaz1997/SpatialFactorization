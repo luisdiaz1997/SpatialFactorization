{
 "cells": [
  {
   "cell_type": "code",
   "execution_count": 1,
   "metadata": {},
   "outputs": [],
   "source": [
    "from pyro.nn import PyroModule, PyroParam\n",
    "from torch.distributions import constraints\n",
    "import torch"
   ]
  },
  {
   "cell_type": "code",
   "execution_count": 3,
   "metadata": {},
   "outputs": [],
   "source": [
    "class PNMF(PyroModule):\n",
    "    def __init__(self, input_shape: tuple, latent_dim=2):\n",
    "        super(PNMF, self).__init__()\n",
    "        self.N, self.J = input_shape\n",
    "        self.L = latent_dim\n",
    "        self.W = PyroParam(torch.randn(size=(self.J, self.L)).exp(), \n",
    "                            constraint=constraints.positive)\n",
    "    \n",
    "    def forward(self, x):\n",
    "        pass"
   ]
  },
  {
   "cell_type": "code",
   "execution_count": null,
   "metadata": {},
   "outputs": [],
   "source": []
  }
 ],
 "metadata": {
  "kernelspec": {
   "display_name": "Python 3.9.13 ('nsf')",
   "language": "python",
   "name": "python3"
  },
  "language_info": {
   "codemirror_mode": {
    "name": "ipython",
    "version": 3
   },
   "file_extension": ".py",
   "mimetype": "text/x-python",
   "name": "python",
   "nbconvert_exporter": "python",
   "pygments_lexer": "ipython3",
   "version": "3.9.15 | packaged by conda-forge | (main, Nov 22 2022, 08:52:10) \n[Clang 14.0.6 ]"
  },
  "orig_nbformat": 4,
  "vscode": {
   "interpreter": {
    "hash": "def6b8d8258e8d56bbd351e0808a62c623228fb917639ea99d1b4fa8686b8b68"
   }
  }
 },
 "nbformat": 4,
 "nbformat_minor": 2
}
